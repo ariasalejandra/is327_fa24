{
 "cells": [
  {
   "cell_type": "code",
   "execution_count": 2,
   "metadata": {},
   "outputs": [],
   "source": [
    "import pandas as pd\n",
    "from sklearn import linear_model, model_selection, pipeline, preprocessing, metrics\n",
    "\n",
    "# Read in dataset\n",
    "df = pd.read_csv('dataset-email.csv')\n",
    "\n",
    "# Set up cross-validation; make sure to shuffle folds\n",
    "xval = model_selection.KFold(10, shuffle=True)\n",
    "\n",
    "# Set up scoring with multiple metrics\n",
    "scorer = {\n",
    "    'kappa': metrics.make_scorer(metrics.cohen_kappa_score),\n",
    "    'accuracy': metrics.make_scorer(metrics.accuracy_score),\n",
    "    'precision': metrics.make_scorer(metrics.precision_score),\n",
    "    'recall': metrics.make_scorer(metrics.recall_score)\n",
    "}\n",
    "\n",
    "# Create the pipeline model\n",
    "pipe = pipeline.Pipeline([\n",
    "    ('scaling', preprocessing.StandardScaler()),\n",
    "    ('model', linear_model.LogisticRegression())\n",
    "])\n",
    "\n",
    "features = df.drop(columns=['spam']).columns\n",
    "features\n",
    "# Train and test model\n",
    "result = model_selection.cross_validate(pipe, df[features], df.spam, return_train_score=True,\n",
    "    cv=xval, scoring=scorer, return_estimator=True)\n",
    "\n",
    "# Calculate metrics for testing data\n",
    "test_kappa = result['test_kappa'].mean()\n",
    "test_kappa_sd = result['test_kappa'].std()\n",
    "test_precision = result['test_precision'].mean()\n",
    "test_precision_sd = result['test_precision'].std()\n",
    "test_recall = result['test_recall'].mean()\n",
    "test_recall_sd = result['test_recall'].std()"
   ]
  },
  {
   "cell_type": "code",
   "execution_count": null,
   "metadata": {},
   "outputs": [],
   "source": []
  }
 ],
 "metadata": {
  "kernelspec": {
   "display_name": "Python 3",
   "language": "python",
   "name": "python3"
  },
  "language_info": {
   "codemirror_mode": {
    "name": "ipython",
    "version": 3
   },
   "file_extension": ".py",
   "mimetype": "text/x-python",
   "name": "python",
   "nbconvert_exporter": "python",
   "pygments_lexer": "ipython3",
   "version": "3.10.11"
  }
 },
 "nbformat": 4,
 "nbformat_minor": 2
}
