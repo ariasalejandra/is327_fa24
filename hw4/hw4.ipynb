{
 "cells": [
  {
   "cell_type": "code",
   "execution_count": null,
   "metadata": {},
   "outputs": [],
   "source": [
    "import pandas as pd\n",
    "from sklearn import tree, metrics, model_selection\n",
    "\n",
    "# Read in dataset\n",
    "df = pd.read_csv('dataset.csv')\n",
    "\n",
    "# Create cross-validation object\n",
    "xval = model_selection.KFold(10, shuffle=True)\n",
    "\n",
    "# Create results lists\n",
    "fold_predictions = metrics.make_scorer(metrics.cohen_kappa_score)\n",
    "fold_acc = model_selection.cross_validate(model, X, y, cv=xval, scoring=fold_predictions, return_train_score=True)\n",
    "\n",
    "# Iterate over cross-validation folds\n",
    "for train_i, test_i in xval.split(df):\n",
    "    # Select data for this fold\n",
    "    train_df = df[train_i]\n",
    "    test_df = df[test_i]\n",
    "    # Train model, test, and store results for this fold\n",
    "    \n",
    "\n",
    "# Aggregate accuracy; see np.mean and np.std functions for help\n",
    "# Alternatively, create a pd.Series object and use .mean() and .std()\n",
    "acc_mean = ...\n",
    "acc_sd = ..."
   ]
  }
 ],
 "metadata": {
  "language_info": {
   "name": "python"
  }
 },
 "nbformat": 4,
 "nbformat_minor": 2
}
