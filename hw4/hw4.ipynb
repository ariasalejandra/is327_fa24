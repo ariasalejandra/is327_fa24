{
 "cells": [
  {
   "cell_type": "code",
   "execution_count": 4,
   "metadata": {},
   "outputs": [],
   "source": [
    "import pandas as pd\n",
    "from sklearn import tree, metrics, model_selection\n",
    "import numpy as np\n",
    "# Read in dataset\n",
    "df = pd.read_csv('dataset.csv')\n",
    "\n",
    "# Create cross-validation object\n",
    "xval = model_selection.KFold(10, shuffle=True)\n",
    "features = [\"col0\", \"col1\", \"col2\", \"col3\", \"col4\", \"col5\", \"col6\", \"col7\", \"col8\", \"col9\", \"col10\", \"col11\", \"col12\", \"col13\"]\n",
    "# Create results lists\n",
    "fold_predictions = []\n",
    "fold_acc = []\n",
    "\n",
    "# Iterate over cross-validation folds\n",
    "for train_i, test_i in xval.split(df):\n",
    "    # Select data for this fold\n",
    "    train_df = df.iloc[train_i]\n",
    "    test_df = df.iloc[test_i]\n",
    "    # Train model, test, and store results for this fold\n",
    "    model = tree.DecisionTreeClassifier(min_samples_leaf=5)\n",
    "    model.fit(train_df[features], train_df['label'])\n",
    "    predictions = model.predict(test_df[features])\n",
    "    fold_predictions.append(predictions)\n",
    "    kappa = metrics.cohen_kappa_score(test_df[\"label\"], predictions)\n",
    "    fold_acc.append(kappa)\n",
    "\n",
    "# Aggregate accuracy; see np.mean and np.std functions for help\n",
    "# Alternatively, create a pd.Series object and use .mean() and .std()\n",
    "acc_mean = np.mean(fold_acc)\n",
    "acc_sd = np.std(fold_acc)"
   ]
  },
  {
   "cell_type": "code",
   "execution_count": null,
   "metadata": {},
   "outputs": [],
   "source": []
  }
 ],
 "metadata": {
  "kernelspec": {
   "display_name": "Python 3",
   "language": "python",
   "name": "python3"
  },
  "language_info": {
   "codemirror_mode": {
    "name": "ipython",
    "version": 3
   },
   "file_extension": ".py",
   "mimetype": "text/x-python",
   "name": "python",
   "nbconvert_exporter": "python",
   "pygments_lexer": "ipython3",
   "version": "3.10.11"
  }
 },
 "nbformat": 4,
 "nbformat_minor": 2
}
