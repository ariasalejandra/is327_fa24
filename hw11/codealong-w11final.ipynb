{
 "cells": [
  {
   "cell_type": "markdown",
   "metadata": {},
   "source": [
    "## Clustering\n",
    "\n",
    "### Clustering with k-means\n",
    "\n",
    "Check out this cool demo site: <https://www.naftaliharris.com/blog/visualizing-k-means-clustering/>"
   ]
  },
  {
   "cell_type": "code",
   "execution_count": 1,
   "metadata": {},
   "outputs": [
    {
     "data": {
      "text/html": [
       "<div>\n",
       "<style scoped>\n",
       "    .dataframe tbody tr th:only-of-type {\n",
       "        vertical-align: middle;\n",
       "    }\n",
       "\n",
       "    .dataframe tbody tr th {\n",
       "        vertical-align: top;\n",
       "    }\n",
       "\n",
       "    .dataframe thead th {\n",
       "        text-align: right;\n",
       "    }\n",
       "</style>\n",
       "<table border=\"1\" class=\"dataframe\">\n",
       "  <thead>\n",
       "    <tr style=\"text-align: right;\">\n",
       "      <th></th>\n",
       "      <th>title</th>\n",
       "      <th>text</th>\n",
       "    </tr>\n",
       "  </thead>\n",
       "  <tbody>\n",
       "    <tr>\n",
       "      <th>0</th>\n",
       "      <td>April</td>\n",
       "      <td>April is the fourth month of the year in the J...</td>\n",
       "    </tr>\n",
       "    <tr>\n",
       "      <th>1</th>\n",
       "      <td>August</td>\n",
       "      <td>August (Aug.) is the eighth month of the year ...</td>\n",
       "    </tr>\n",
       "    <tr>\n",
       "      <th>2</th>\n",
       "      <td>Art</td>\n",
       "      <td>Art is a creative activity and technical skill...</td>\n",
       "    </tr>\n",
       "    <tr>\n",
       "      <th>3</th>\n",
       "      <td>A</td>\n",
       "      <td>A or a is the first letter of the English alph...</td>\n",
       "    </tr>\n",
       "    <tr>\n",
       "      <th>4</th>\n",
       "      <td>Air</td>\n",
       "      <td>Air is the Earth's atmosphere. Air is a mixtur...</td>\n",
       "    </tr>\n",
       "    <tr>\n",
       "      <th>...</th>\n",
       "      <td>...</td>\n",
       "      <td>...</td>\n",
       "    </tr>\n",
       "    <tr>\n",
       "      <th>10139</th>\n",
       "      <td>Depleted uranium</td>\n",
       "      <td>Depleted uranium is what is left over after ur...</td>\n",
       "    </tr>\n",
       "    <tr>\n",
       "      <th>10140</th>\n",
       "      <td>Commuting</td>\n",
       "      <td>Commuting is the act of travelling from home t...</td>\n",
       "    </tr>\n",
       "    <tr>\n",
       "      <th>10141</th>\n",
       "      <td>Anne Redpath</td>\n",
       "      <td>Anne Redpath (1895 – 1965) was a Scottish arti...</td>\n",
       "    </tr>\n",
       "    <tr>\n",
       "      <th>10142</th>\n",
       "      <td>CD-RW</td>\n",
       "      <td>A CD-RW (which stands for Compact Disc ReWrita...</td>\n",
       "    </tr>\n",
       "    <tr>\n",
       "      <th>10143</th>\n",
       "      <td>Magneto-optical drive</td>\n",
       "      <td>A Magneto-optical drive is a disk drive for co...</td>\n",
       "    </tr>\n",
       "  </tbody>\n",
       "</table>\n",
       "<p>10144 rows × 2 columns</p>\n",
       "</div>"
      ],
      "text/plain": [
       "                       title  \\\n",
       "0                      April   \n",
       "1                     August   \n",
       "2                        Art   \n",
       "3                          A   \n",
       "4                        Air   \n",
       "...                      ...   \n",
       "10139       Depleted uranium   \n",
       "10140              Commuting   \n",
       "10141           Anne Redpath   \n",
       "10142                  CD-RW   \n",
       "10143  Magneto-optical drive   \n",
       "\n",
       "                                                    text  \n",
       "0      April is the fourth month of the year in the J...  \n",
       "1      August (Aug.) is the eighth month of the year ...  \n",
       "2      Art is a creative activity and technical skill...  \n",
       "3      A or a is the first letter of the English alph...  \n",
       "4      Air is the Earth's atmosphere. Air is a mixtur...  \n",
       "...                                                  ...  \n",
       "10139  Depleted uranium is what is left over after ur...  \n",
       "10140  Commuting is the act of travelling from home t...  \n",
       "10141  Anne Redpath (1895 – 1965) was a Scottish arti...  \n",
       "10142  A CD-RW (which stands for Compact Disc ReWrita...  \n",
       "10143  A Magneto-optical drive is a disk drive for co...  \n",
       "\n",
       "[10144 rows x 2 columns]"
      ]
     },
     "execution_count": 1,
     "metadata": {},
     "output_type": "execute_result"
    }
   ],
   "source": [
    "# Load data (on course website)\n",
    "import pandas as pd\n",
    "df = pd.read_csv('simplewiki.csv')\n",
    "df"
   ]
  },
  {
   "cell_type": "code",
   "execution_count": null,
   "metadata": {},
   "outputs": [],
   "source": [
    "text2 = df.text.str.lower()\n",
    "text2 = text2.str.replace(r'[^a-z ]', ' ', regex=True)\n",
    "text2"
   ]
  },
  {
   "cell_type": "code",
   "execution_count": null,
   "metadata": {},
   "outputs": [],
   "source": [
    "df['text2'] = text2"
   ]
  },
  {
   "cell_type": "code",
   "execution_count": null,
   "metadata": {},
   "outputs": [],
   "source": [
    "all_text = ' '.join(df.text2)\n",
    "words = []\n",
    "for word in all_text.split(' '):\n",
    "    if len(word) > 2:\n",
    "        words.append(word)\n",
    "print(len(words))"
   ]
  },
  {
   "cell_type": "code",
   "execution_count": null,
   "metadata": {},
   "outputs": [],
   "source": [
    "from collections import Counter\n",
    "word_counts = Counter(words)\n",
    "word_counts.most_common(50)  # First 30 or so are stopwords"
   ]
  },
  {
   "cell_type": "code",
   "execution_count": null,
   "metadata": {},
   "outputs": [],
   "source": [
    "interesting_words = word_counts.most_common(100)[30:]\n",
    "interesting_words"
   ]
  },
  {
   "cell_type": "code",
   "execution_count": null,
   "metadata": {},
   "outputs": [],
   "source": [
    "interesting_words = [w[0] for w in interesting_words]\n",
    "interesting_words"
   ]
  },
  {
   "cell_type": "code",
   "execution_count": null,
   "metadata": {},
   "outputs": [],
   "source": [
    "features = []\n",
    "for word in interesting_words:\n",
    "    features.append('prop_' + word)\n",
    "features"
   ]
  },
  {
   "cell_type": "code",
   "execution_count": null,
   "metadata": {},
   "outputs": [],
   "source": [
    "for f in features:\n",
    "    df[f] = 0.0\n",
    "df"
   ]
  },
  {
   "cell_type": "code",
   "execution_count": null,
   "metadata": {},
   "outputs": [],
   "source": [
    "for i, article in enumerate(df.text2):  # Takes about 30s\n",
    "    for word in interesting_words:\n",
    "        df.at[i, 'prop_' + word] = article.count(word) / len(article)"
   ]
  },
  {
   "cell_type": "code",
   "execution_count": null,
   "metadata": {},
   "outputs": [],
   "source": [
    "# Need to calculate proportions because otherwise articles cluster by length\n",
    "# Also ensures a nice scale for distance calculation\n",
    "df"
   ]
  },
  {
   "cell_type": "code",
   "execution_count": null,
   "metadata": {},
   "outputs": [],
   "source": [
    "from sklearn import cluster\n",
    "\n",
    "model = cluster.KMeans(2)\n",
    "model.fit(df[features])\n",
    "clusters = model.predict(df[features])\n",
    "# And fit_predict\n",
    "\n",
    "clusters\n",
    "clusters[:100]"
   ]
  },
  {
   "cell_type": "code",
   "execution_count": null,
   "metadata": {},
   "outputs": [],
   "source": [
    "# How can we visualize such high-dimensional clustering data?\n",
    "# Try find which words differentiate clusters most\n",
    "corrs = []\n",
    "for feature in features:\n",
    "    corrs.append(abs(df[feature].corr(pd.Series(clusters))))\n",
    "    # Correlation between the feature's values and the clusters \n",
    "    # Converts to a Pandas Series for easy correlation computation\n",
    "corrs = pd.Series(corrs, index=features)\n",
    "corrs.sort_values(ascending=False)"
   ]
  },
  {
   "cell_type": "code",
   "execution_count": null,
   "metadata": {},
   "outputs": [],
   "source": [
    "# Examples from a cluster\n",
    "# We can use clusters as index since it is same length as df\n",
    "df[clusters == 1]"
   ]
  },
  {
   "cell_type": "code",
   "execution_count": null,
   "metadata": {},
   "outputs": [],
   "source": [
    "# Explore k\n",
    "from sklearn import metrics\n",
    "import matplotlib.pyplot as plt\n",
    "\n",
    "distortions = []\n",
    "silhouettes = []\n",
    "for k in range(1, 11):\n",
    "    print('K =', k)\n",
    "    m = cluster.KMeans(k, n_init=10)\n",
    "    m.fit(df[features])\n",
    "    distortions.append(m.inertia_)\n",
    "    clusters = m.predict(df[features])\n",
    "    if k > 1:  # Not possible with k < 2\n",
    "        silhouettes.append(metrics.silhouette_score(df[features], clusters))\n",
    "\n",
    "print('Distortions:', distortions)\n",
    "print('Silhouettes:', silhouettes)"
   ]
  },
  {
   "cell_type": "code",
   "execution_count": null,
   "metadata": {},
   "outputs": [],
   "source": [
    "# Plot the result; no clear K \n",
    "#   -- maybe 3 or 7\n",
    "#   -- maybe much more!\n",
    "\n",
    "# Rescaling distortions not actually needed here because the data\n",
    "# are already on a 0-1 scale and the distortion comes out similar\n",
    "# rescaled_distortion = pd.Series(distortions) / max(distortions)\n",
    "plt.figure(dpi=300, figsize=(8, 4))\n",
    "plt.xlabel('Number of clusters (k)')\n",
    "plt.plot(range(1, 11), distortions, marker='s', label='Distortion')\n",
    "plt.plot(range(2, 11), silhouettes, label='Silhouette')  # note 2!\n",
    "plt.legend()"
   ]
  },
  {
   "cell_type": "markdown",
   "metadata": {},
   "source": [
    "### Hierarchical clustering"
   ]
  },
  {
   "cell_type": "code",
   "execution_count": null,
   "metadata": {},
   "outputs": [],
   "source": [
    "# Ward linkage is default\n",
    "# Picks point that minimizes SSE\n",
    "model = cluster.AgglomerativeClustering(2)\n",
    "model.fit(df[features])\n",
    "# No `predict` method; does not lend itself well to prediction\n",
    "# New data points, we have to re-fit the AgglomerativeClustering model on the combined dataset (old + new data).\n",
    "model.labels_"
   ]
  },
  {
   "cell_type": "code",
   "execution_count": null,
   "metadata": {},
   "outputs": [],
   "source": [
    "kmeansmodel = cluster.KMeans(2, n_init=10)\n",
    "kmeansmodel.fit(df[features])\n",
    "# k-means \"predict\" as new data points can be assigned to clusters based on nearest centroid.\n",
    "kmeanscluster = kmeansmodel.predict(df[features])\n",
    "\n",
    "# Ward linkage makes very similar clusters here\n",
    "pd.Series(model.labels_).corr(pd.Series(kmeanscluster))"
   ]
  },
  {
   "cell_type": "code",
   "execution_count": null,
   "metadata": {},
   "outputs": [],
   "source": [
    "# But complete linkage (max dist) does not\n",
    "model = cluster.AgglomerativeClustering(2, linkage='complete')\n",
    "model.fit(df[features])\n",
    "pd.Series(model.labels_).corr(pd.Series(clusters))"
   ]
  },
  {
   "cell_type": "markdown",
   "metadata": {},
   "source": [
    "# Check dendrogram plotting \n",
    "\n",
    "<https://scikit-learn.org/stable/auto_examples/cluster/plot_agglomerative_dendrogram.html>"
   ]
  },
  {
   "cell_type": "markdown",
   "metadata": {},
   "source": [
    "## Self-supervised learning / Language Modeling\n",
    "\n",
    "Another type of unsupervised learning."
   ]
  },
  {
   "cell_type": "code",
   "execution_count": null,
   "metadata": {},
   "outputs": [],
   "source": [
    "all_words = all_text.split(' ')\n",
    "len(all_words)  # Too many!"
   ]
  },
  {
   "cell_type": "code",
   "execution_count": null,
   "metadata": {},
   "outputs": [],
   "source": [
    "common_words = word_counts.most_common(500)\n",
    "common_words\n",
    "\n",
    "#rank words\n",
    "word_num = {}\n",
    "for i, wordcount in enumerate(common_words):\n",
    "    word_num[wordcount[0]] = i\n",
    "    # wordcount[0] is just the word, wordcount[1] is the Term Frequency\n",
    "word_num"
   ]
  },
  {
   "cell_type": "code",
   "execution_count": null,
   "metadata": {},
   "outputs": [],
   "source": [
    "encoded_data = []\n",
    "for word in all_words[:200_000]:\n",
    "    if word in word_num:  # Common word\n",
    "        encoded_data.append(word_num[word])\n",
    "    else:\n",
    "        encoded_data.append(-1)\n",
    "encoded_data"
   ]
  },
  {
   "cell_type": "code",
   "execution_count": null,
   "metadata": {},
   "outputs": [],
   "source": [
    "instances = []\n",
    "y = []\n",
    "for i in range(5, len(encoded_data)):\n",
    "    instances.append(encoded_data[i - 5:i])\n",
    "    y.append(encoded_data[i])\n",
    "word_features = ['word1', 'word2', 'word3', 'word4', 'word5']\n",
    "encoded_df = pd.DataFrame(data=instances, columns=word_features)\n",
    "encoded_df\n",
    "encoded_df['y'] = y\n",
    "encoded_df"
   ]
  },
  {
   "cell_type": "code",
   "execution_count": null,
   "metadata": {},
   "outputs": [],
   "source": [
    "from sklearn import ensemble, model_selection\n",
    "\n",
    "train_X, test_X, train_y, test_y = model_selection.train_test_split(\n",
    "    encoded_df[word_features], encoded_df.y, test_size=.2)\n",
    "\n",
    "model = ensemble.RandomForestClassifier(100, min_samples_leaf=5)\n",
    "model.fit(train_X, train_y)  # About <2 minutes\n",
    "preds = model.predict(test_X)\n",
    "print('Kappa:', metrics.cohen_kappa_score(test_y, preds))"
   ]
  }
 ],
 "metadata": {
  "kernelspec": {
   "display_name": "Python 3",
   "language": "python",
   "name": "python3"
  },
  "language_info": {
   "codemirror_mode": {
    "name": "ipython",
    "version": 3
   },
   "file_extension": ".py",
   "mimetype": "text/x-python",
   "name": "python",
   "nbconvert_exporter": "python",
   "pygments_lexer": "ipython3",
   "version": "3.10.11"
  }
 },
 "nbformat": 4,
 "nbformat_minor": 4
}
