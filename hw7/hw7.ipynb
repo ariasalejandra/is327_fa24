{
 "cells": [
  {
   "cell_type": "code",
   "execution_count": 6,
   "metadata": {},
   "outputs": [],
   "source": [
    "import pandas as pd\n",
    "from sklearn import model_selection, tree\n",
    "\n",
    "# Read in dataset\n",
    "df = pd.read_csv('dataset.csv')\n",
    "\n",
    "# Fix the missing values in the horsepower column\n",
    "df['horsepower'] = df.horsepower.replace('?', 100)\n",
    "features = [\"horsepower\",\"weight\",\"origin\",\"displacement\"]\n",
    "X = df[features]\n",
    "y = df[\"mpg\"]\n",
    "# Set up cross-validation; make sure to shuffle folds\n",
    "model = tree.DecisionTreeRegressor(min_samples_leaf=10)\n",
    "xval = model_selection.KFold(10, shuffle=True)\n",
    "# Train and test model\n",
    "result = model_selection.cross_validate(model,\n",
    "    X, y, cv=xval, scoring='r2',\n",
    "    return_estimator=True,\n",
    "    return_train_score=True)\n",
    "\n",
    "# Calculate mean R^2 for training and testing data\n",
    "train_r2 = result['train_score'].mean()\n",
    "train_r2_sd = result['train_score'].std()\n",
    "test_r2 =  result['test_score'].mean()\n",
    "test_r2_sd = result['test_score'].std()"
   ]
  },
  {
   "cell_type": "code",
   "execution_count": null,
   "metadata": {},
   "outputs": [],
   "source": []
  }
 ],
 "metadata": {
  "kernelspec": {
   "display_name": "Python 3",
   "language": "python",
   "name": "python3"
  },
  "language_info": {
   "codemirror_mode": {
    "name": "ipython",
    "version": 3
   },
   "file_extension": ".py",
   "mimetype": "text/x-python",
   "name": "python",
   "nbconvert_exporter": "python",
   "pygments_lexer": "ipython3",
   "version": "3.10.11"
  }
 },
 "nbformat": 4,
 "nbformat_minor": 2
}
